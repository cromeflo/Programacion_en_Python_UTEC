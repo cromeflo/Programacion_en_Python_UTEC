{
  "nbformat": 4,
  "nbformat_minor": 0,
  "metadata": {
    "colab": {
      "name": "modulo 2.ipynb",
      "provenance": [],
      "include_colab_link": true
    },
    "kernelspec": {
      "name": "python3",
      "display_name": "Python 3"
    },
    "language_info": {
      "name": "python"
    }
  },
  "cells": [
    {
      "cell_type": "markdown",
      "metadata": {
        "id": "view-in-github",
        "colab_type": "text"
      },
      "source": [
        "<a href=\"https://colab.research.google.com/github/cromeflo/Programacion_en_Python_UTEC/blob/main/modulo_1/3.%20Sentencias_Condicionales.ipynb\" target=\"_parent\"><img src=\"https://colab.research.google.com/assets/colab-badge.svg\" alt=\"Open In Colab\"/></a>"
      ]
    },
    {
      "cell_type": "markdown",
      "source": [
        "<img src=\"https://www.ctic.uni.edu.pe/wp-content/uploads/2022/04/588px-x-348px-web-1.png\" alt=\"HTML5 Icon\" width=\"900\" height=\"350\" >\n"
      ],
      "metadata": {
        "id": "qCg1zV0_DK0j"
      }
    },
    {
      "cell_type": "markdown",
      "source": [
        "<h1 align=center><font size = 5> SENTENCIAS CONDICIONALES\n",
        "\n",
        "</font></h1>\n",
        "\n",
        "---"
      ],
      "metadata": {
        "id": "XJ-qSpecBnPA"
      }
    },
    {
      "cell_type": "markdown",
      "source": [
        "## Ejercicio 1"
      ],
      "metadata": {
        "id": "Pjm79uguowIC"
      }
    },
    {
      "cell_type": "markdown",
      "source": [
        "**Día de la Semana**\n",
        "\n",
        "Crea un programa que solicite al usuario un número del 1 al 7 y devuelva el día de la semana correspondiente (1 para lunes, 2 para martes, etc.). Si el número está fuera de ese rango, el programa debe mostrar un mensaje de error."
      ],
      "metadata": {
        "id": "SdnlyoStB_pK"
      }
    },
    {
      "cell_type": "code",
      "source": [
        "print(\"Ejercicio 1: Día de la Semana\")\n",
        "print(\"Alumno: Carlos Enrique Romero Flores\")\n",
        "print(\"------------------------------------\")\n",
        "#\n",
        "try:\n",
        "    numero = int(input(\"Ingrese un número del 1 al 7, sabiendo que 1 es Lunes y 7 es Domingo: \"))\n",
        "    #\n",
        "    if numero>0 & numero<7:\n",
        "        if numero == 1:\n",
        "            dia_semana = \"Lunes\"\n",
        "        elif numero == 2:\n",
        "            dia_semana = \"Martes\"\n",
        "        elif numero == 3:\n",
        "            dia_semana = \"Miércoles\"\n",
        "        elif numero == 4:\n",
        "            dia_semana = \"Jueves\"\n",
        "        elif numero == 5:\n",
        "            dia_semana = \"Viernes\"\n",
        "        elif numero == 6:\n",
        "            dia_semana = \"Sábado\"\n",
        "        elif numero == 7:\n",
        "            dia_semana = \"Domingo\"\n",
        "        print(\"El día correspondiente es:\", dia_semana)\n",
        "    else:\n",
        "        print(\"El número ingresado está fuera del rango.\")\n",
        "except:\n",
        "    print(\"Por favor, ingrese un número válido.\")"
      ],
      "metadata": {
        "colab": {
          "base_uri": "https://localhost:8080/"
        },
        "id": "B24qErVIoOMA",
        "outputId": "f8dd9845-aacd-4683-a604-d9850035f629"
      },
      "execution_count": 14,
      "outputs": [
        {
          "output_type": "stream",
          "name": "stdout",
          "text": [
            "Ejercicio 3: Calculadora de Tarifa de Transporte\n",
            "Alumno: Carlos Enrique Romero Flores\n",
            "------------------------------------\n",
            "Ingrese un número del 1 al 7, sabiendo que 1 es Lunes y 7 es Domingo: 2\n",
            "El día correspondiente es: Martes\n"
          ]
        }
      ]
    },
    {
      "cell_type": "markdown",
      "source": [
        "## Ejercicio 2"
      ],
      "metadata": {
        "id": "dBLOcsf7pOAc"
      }
    },
    {
      "cell_type": "markdown",
      "source": [
        "**Clasificador de Edades**\n",
        "\n",
        "Escribe un programa que pida al usuario su edad y determine si es un niño (menores de 13), un adolescente (entre 13 y 17 años), un adulto (entre 18 y 64 años) o un adulto mayor (65 años o más). Usa if, elif y else para manejar los diferentes rangos de edad."
      ],
      "metadata": {
        "id": "qaFUqFj8pWXo"
      }
    },
    {
      "cell_type": "code",
      "source": [
        "print(\"Ejercicio 2: Clasificador de Edades\")\n",
        "print(\"Alumno: Carlos Enrique Romero Flores\")\n",
        "print(\"------------------------------------\")\n",
        "#\n",
        "try:\n",
        "    edad = int(input(\"Por favor, ingresa tu edad: \"))\n",
        "    #\n",
        "    if edad < 0:\n",
        "        print(\"La edad no puede ser negativa.\")\n",
        "    elif edad < 13:\n",
        "        print(\"Eres un niño.\")\n",
        "    elif edad < 18:\n",
        "        print(\"Eres un adolescente.\")\n",
        "    elif edad < 65:\n",
        "        print(\"Eres un adulto.\")\n",
        "    else:\n",
        "        print(\"Eres un adulto mayor.\")\n",
        "except:\n",
        "    print(\"¡Error!. Debe ser una edad válida.\")"
      ],
      "metadata": {
        "id": "Ku3EOGfmpbey",
        "colab": {
          "base_uri": "https://localhost:8080/"
        },
        "outputId": "7920169f-15b4-4b52-96c4-04b5c8ae250f"
      },
      "execution_count": 13,
      "outputs": [
        {
          "output_type": "stream",
          "name": "stdout",
          "text": [
            "Por favor, ingresa tu edad: 65\n",
            "Eres un adulto mayor.\n"
          ]
        }
      ]
    },
    {
      "cell_type": "markdown",
      "source": [
        "## Ejercicio 3"
      ],
      "metadata": {
        "id": "3mMq8vHKpa7Y"
      }
    },
    {
      "cell_type": "markdown",
      "source": [
        "**Calculadora de Tarifa de Transporte**\n",
        "\n",
        "Diseña un programa que calcule el costo del billete de autobús según la distancia del viaje. La tarifa base para los primeros 5 kilómetros es de 2. Cada kilómetro adicional hasta 20 kilómetros cuesta 0.50 extra por kilómetro. Para distancias mayores a 20 kilómetros, cada kilómetro adicional cuesta 0.30. El programa debe pedir al usuario la distancia del viaje y calcular el costo total."
      ],
      "metadata": {
        "id": "xmLc4gGTpgDG"
      }
    },
    {
      "cell_type": "code",
      "source": [
        "print(\"Ejercicio 3: Calculadora de Tarifa de Transporte\")\n",
        "print(\"Alumno: Carlos Enrique Romero Flores\")\n",
        "print(\"------------------------------------\")\n",
        "#\n",
        "try:\n",
        "    distancia = float(input(\"Por favor, ingresa la distancia de tu viaje (km): \"))\n",
        "    if distancia <= 0:\n",
        "        print(\"¡Error!. La distancia debe ser mayor que cero.\")\n",
        "    else:\n",
        "        if distancia <= 5:\n",
        "            costo = 2\n",
        "        elif distancia <= 20:\n",
        "            costo = 2 + (0.5 * (distancia - 5))\n",
        "        else:\n",
        "            costo = 2 + (0.5 * (20 - 5)) + (0.3 * (distancia - 20))\n",
        "        #\n",
        "        print(\"El costo del billete de autobús es:\", costo)\n",
        "except:\n",
        "    print(\"Por favor, ingresa una distancia válida.\")"
      ],
      "metadata": {
        "colab": {
          "base_uri": "https://localhost:8080/"
        },
        "id": "1q0dkLjhsh2C",
        "outputId": "e4ceb64f-6166-4106-8cf1-c54cf99aa59d"
      },
      "execution_count": 15,
      "outputs": [
        {
          "output_type": "stream",
          "name": "stdout",
          "text": [
            "Ejercicio 3: Calculadora de Tarifa de Transporte\n",
            "Alumno: Carlos Enrique Romero Flores\n",
            "------------------------------------\n",
            "Por favor, ingresa la distancia de tu viaje (km): 24\n",
            "El costo del billete de autobús es: 10.7\n"
          ]
        }
      ]
    },
    {
      "cell_type": "markdown",
      "source": [
        "## Ejercicio 4"
      ],
      "metadata": {
        "id": "vGY7cl60po9Z"
      }
    },
    {
      "cell_type": "markdown",
      "source": [
        "**Simulador de Calificaciones**\n",
        "\n",
        "Crea un programa que simule la entrada de calificaciones de un estudiante en 5 materias, calcule el promedio y luego determine la categoría de desempeño académico basándose en el promedio: insuficiente (menor a 6), suficiente (6-6.9), bueno (7-8.9), muy bueno (9-9.9) y excelente (10). Además, el programa debe indicar si el estudiante ha reprobado alguna materia."
      ],
      "metadata": {
        "id": "hfY02LIlprAr"
      }
    },
    {
      "cell_type": "code",
      "source": [
        "print(\"Ejercicio 4: Simulador de Calificaciones\")\n",
        "print(\"Alumno: Carlos Enrique Romero Flores\")\n",
        "print(\"------------------------------------\")\n",
        "#\n",
        "try:\n",
        "    nota_1 = float(input(\"Nota de la materia #1 (De 0 a 10): \"))\n",
        "    nota_2 = float(input(\"Nota de la materia #2 (De 0 a 10): \"))\n",
        "    nota_3 = float(input(\"Nota de la materia #3 (De 0 a 10): \"))\n",
        "    nota_4 = float(input(\"Nota de la materia #4 (De 0 a 10): \"))\n",
        "    nota_5 = float(input(\"Nota de la materia #5 (De 0 a 10): \"))\n",
        "    #\n",
        "    promedio = (nota_1 + nota_2 + nota_3 + nota_4 + nota_5) / 5\n",
        "    #\n",
        "    if promedio < 6:\n",
        "        categoria = \"Insuficiente\"\n",
        "    elif promedio < 7:\n",
        "        categoria = \"Suficiente\"\n",
        "    elif promedio < 9:\n",
        "        categoria = \"Bueno\"\n",
        "    elif promedio < 10:\n",
        "        categoria = \"Muy bueno\"\n",
        "    else:\n",
        "        categoria = \"Excelente\"\n",
        "    #\n",
        "    if (nota_1 < 6) or (nota_2 < 6) or (nota_3 < 6) or (nota_4 < 6) or (nota_5 < 6):\n",
        "        reprobo_alguna = True\n",
        "    else:\n",
        "        reprobo_alguna = False\n",
        "    #\n",
        "    print(\"El promedio del estudiante es:\", promedio)\n",
        "    print(\"Desempeño académico:\", categoria)\n",
        "    if reprobo_alguna:\n",
        "        print(\"El estudiante ha reprobado alguna materia.\")\n",
        "    else:\n",
        "        print(\"El estudiante no ha reprobado ninguna materia.\")\n",
        "except:\n",
        "    print(\"Por favor, ingrese calificaciones válidas.\")"
      ],
      "metadata": {
        "id": "dtTAzOrbp5Cc",
        "colab": {
          "base_uri": "https://localhost:8080/"
        },
        "outputId": "11c8bfbd-eb8b-471d-a0ff-0da0ef7f047f"
      },
      "execution_count": 21,
      "outputs": [
        {
          "output_type": "stream",
          "name": "stdout",
          "text": [
            "Ejercicio 4: Simulador de Calificaciones\n",
            "Alumno: Carlos Enrique Romero Flores\n",
            "------------------------------------\n",
            "Nota de la materia #1 (De 0 a 10): 12\n",
            "Nota de la materia #2 (De 0 a 10): 15\n",
            "Nota de la materia #3 (De 0 a 10): 20\n",
            "Nota de la materia #4 (De 0 a 10): 15\n",
            "Nota de la materia #5 (De 0 a 10): 14\n",
            "El promedio del estudiante es: 15.2\n",
            "Desempeño académico: Excelente\n",
            "El estudiante no ha reprobado ninguna materia.\n"
          ]
        }
      ]
    },
    {
      "cell_type": "markdown",
      "source": [
        "## Ejercicio 5"
      ],
      "metadata": {
        "id": "OTHCLAOMp5dz"
      }
    },
    {
      "cell_type": "markdown",
      "source": [
        "**Sistema de Bonos por Desempeño**\n",
        "\n",
        "Desarrolla un programa que calcule el bono de fin de año para los empleados de una empresa. El bono se calcula en base a los años de servicio y la evaluación de desempeño. Los empleados con menos de 2 años no reciben bono. Los empleados con 2 a 5 años reciben un 10% de su salario si su desempeño fue \"bueno\", un 20% si fue \"excelente\". Para los empleados con más de 5 años, el bono es del 20% para \"bueno\" y del 30% para \"excelente\". La entrada del programa serán los años de servicio, el salario y la evaluación de desempeño."
      ],
      "metadata": {
        "id": "4RkTFgtQp7N3"
      }
    },
    {
      "cell_type": "code",
      "source": [
        "print(\"Ejercicio 5: Sistema de Bonos por Desempeño\")\n",
        "print(\"Alumno: Carlos Enrique Romero Flores\")\n",
        "print(\"------------------------------------\")\n",
        "#\n",
        "try:\n",
        "    anhos_servicio = int(input(\"Ingrese los años de servicio del empleado: \"))\n",
        "    salario = float(input(\"Ingrese el salario del empleado: \"))\n",
        "    desempenho = input(\"Ingrese la evaluación de desempeño (bueno/excelente): \").lower()\n",
        "    #\n",
        "    if anhos_servicio < 2:\n",
        "        bono = 0\n",
        "    elif 2 <= anhos_servicio <= 5:\n",
        "        if desempenho == \"bueno\":\n",
        "            bono = salario * 0.10\n",
        "        elif desempenho == \"excelente\":\n",
        "            bono = salario * 0.20\n",
        "        else:\n",
        "            bono = 0\n",
        "    else:\n",
        "        if desempenho == \"bueno\":\n",
        "            bono = salario * 0.20\n",
        "        elif desempenho == \"excelente\":\n",
        "            bono = salario * 0.30\n",
        "        else:\n",
        "            bono = 0\n",
        "    #\n",
        "    print(\"El bono de fin de año para el empleado es:\", bono)\n",
        "except:\n",
        "    print(\"Por favor, ingrese años de servicio y salario como números.\")"
      ],
      "metadata": {
        "id": "xIdHopRLqCr_",
        "colab": {
          "base_uri": "https://localhost:8080/"
        },
        "outputId": "e9a89c4d-fd61-4efc-c692-c45bc8c2e143"
      },
      "execution_count": 22,
      "outputs": [
        {
          "output_type": "stream",
          "name": "stdout",
          "text": [
            "Ejercicio 5: Sistema de Bonos por Desempeño\n",
            "Alumno: Carlos Enrique Romero Flores\n",
            "------------------------------------\n",
            "Ingrese los años de servicio del empleado: 5\n",
            "Ingrese el salario del empleado: 2500\n",
            "Ingrese la evaluación de desempeño (bueno/excelente): bueno\n",
            "El bono de fin de año para el empleado es: 250.0\n"
          ]
        }
      ]
    },
    {
      "cell_type": "markdown",
      "source": [
        "---\n",
        "\n",
        "# Gracias por completar este laboratorio!\n",
        "\n",
        "---\n"
      ],
      "metadata": {
        "id": "Z8TPfkHyH_D5"
      }
    }
  ]
}